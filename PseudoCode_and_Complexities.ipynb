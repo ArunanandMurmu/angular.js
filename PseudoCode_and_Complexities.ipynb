{
  "nbformat": 4,
  "nbformat_minor": 0,
  "metadata": {
    "colab": {
      "provenance": [],
      "include_colab_link": true
    },
    "kernelspec": {
      "name": "python3",
      "display_name": "Python 3"
    },
    "language_info": {
      "name": "python"
    }
  },
  "cells": [
    {
      "cell_type": "markdown",
      "metadata": {
        "id": "view-in-github",
        "colab_type": "text"
      },
      "source": [
        "<a href=\"https://colab.research.google.com/github/ArunanandMurmu/angular.js/blob/master/PseudoCode_and_Complexities.ipynb\" target=\"_parent\"><img src=\"https://colab.research.google.com/assets/colab-badge.svg\" alt=\"Open In Colab\"/></a>"
      ]
    },
    {
      "cell_type": "markdown",
      "source": [
        "**Binary Search Pseudocode**:\n",
        "Assuming `array` is a sorted array and `target` is the value we want to search for in the array.\n",
        "\n",
        "```pseudocode\n",
        "function binarySearch(array, target)\n",
        "    left = 0\n",
        "    right = length(array) - 1\n",
        "\n",
        "    while left <= right\n",
        "        mid = left + (right - left) / 2\n",
        "\n",
        "        if array[mid] == target\n",
        "            return mid\n",
        "        else if array[mid] < target\n",
        "            left = mid + 1\n",
        "        else\n",
        "            right = mid - 1\n",
        "\n",
        "    return -1  // Target not found\n",
        "```\n",
        "\n",
        "**Time Complexity**:\n",
        "- The time complexity of binary search is O(log n). This is because, with each comparison, it halves the size of the area in which it searches, effectively dividing the problem space logarithmically.\n",
        "\n",
        "**Space Complexity**:\n",
        "- The space complexity of binary search is O(1) when implemented iteratively, as in the pseudocode above. This constant space complexity arises because the algorithm only uses a few variables (left, right, mid) and does not use any additional data structures that scale with the size of the input.\n",
        "- Note: If implemented recursively, the space complexity could be O(log n) due to the stack space used for recursion, although the iterative version is more common."
      ],
      "metadata": {
        "id": "jEe0KLKXfVtK"
      }
    },
    {
      "cell_type": "markdown",
      "source": [
        "# Binary Search"
      ],
      "metadata": {
        "id": "BNtAbttGfRCB"
      }
    },
    {
      "cell_type": "markdown",
      "source": [
        "# Bubble Sort"
      ],
      "metadata": {
        "id": "A98O1UhymO6l"
      }
    },
    {
      "cell_type": "markdown",
      "source": [
        "**Bubble Sort Pseudocode**:\n",
        "Assuming `array` is the list of elements that we want to sort:\n",
        "\n",
        "```pseudocode\n",
        "function bubbleSort(array)\n",
        "    n = length(array)\n",
        "    for i = 0 to n-1\n",
        "        for j = 0 to n-i-1\n",
        "            if array[j] > array[j+1]\n",
        "                // Swap the elements\n",
        "                temp = array[j]\n",
        "                array[j] = array[j+1]\n",
        "                array[j+1] = temp\n",
        "```\n",
        "\n",
        "**Time Complexity**:\n",
        "- The time complexity of Bubble Sort in the worst case is O(n²), where `n` is the number of items being sorted. The worst case occurs when the array is in reverse order, needing the maximum number of swaps.\n",
        "- In the best case, when the array is already sorted, the time complexity can be improved to O(n) by introducing a flag to check if any swap has been made in the inner loop. If no swaps occur, the array is already sorted, and the algorithm can be stopped early.\n",
        "\n",
        "**Space Complexity**:\n",
        "- The space complexity of Bubble Sort is O(1). This is because it only requires a constant amount of space beyond the original input array, typically for a few variables for iteration control and swapping elements. The sorting is done in place, meaning it does not require any additional memory proportional to the size of the input array."
      ],
      "metadata": {
        "id": "4toCLrBsmMID"
      }
    },
    {
      "cell_type": "markdown",
      "source": [
        "# Insertion Sort"
      ],
      "metadata": {
        "id": "BXd1jSHBx9mY"
      }
    },
    {
      "cell_type": "markdown",
      "source": [
        "**Insertion Sort Pseudocode**:\n",
        "Assuming `array` is the list of elements to be sorted:\n",
        "\n",
        "```pseudocode\n",
        "function insertionSort(array)\n",
        "    n = length(array)\n",
        "    for i = 1 to n-1\n",
        "        key = array[i]\n",
        "        j = i - 1\n",
        "\n",
        "        // Move elements of array[0..i-1], that are greater than key,\n",
        "        // to one position ahead of their current position\n",
        "        while j >= 0 and array[j] > key\n",
        "            array[j + 1] = array[j]\n",
        "            j = j - 1\n",
        "\n",
        "        array[j + 1] = key\n",
        "```\n",
        "\n",
        "**Time Complexity**:\n",
        "- The worst-case time complexity of Insertion Sort is O(n²), where `n` is the number of items being sorted. This scenario occurs when the array is in reverse order.\n",
        "- In the best case, which occurs when the array is already sorted, the time complexity is O(n), as it only needs to make a single pass through the array.\n",
        "\n",
        "**Space Complexity**:\n",
        "- The space complexity of Insertion Sort is O(1). This is because it is an in-place sorting algorithm, meaning it doesn't require any additional storage that grows with the size of the input array. The extra space used is only for a few variables for iteration control and the temporary storage of the current element being inserted."
      ],
      "metadata": {
        "id": "S4uFCLl7yCV_"
      }
    },
    {
      "cell_type": "markdown",
      "source": [
        "Insertion Sort has a worst-case time complexity of O(n²) due to the way it iterates and inserts elements into the sorted portion of the array. Let's break this down to understand why:\n",
        "\n",
        "1. **Outer Loop**: The algorithm iterates over each element in the array (except the first one, which is considered sorted by default). If there are `n` elements in the array, this loop runs `n-1` times.\n",
        "\n",
        "2. **Inner Loop**: For each element, the algorithm then compares it with each element in the sorted portion of the array (the part of the array to the left of the current element). In the worst case, this means comparing it with every single element to the left. So, for the first element, it's 0 comparisons, for the second it's 1, for the third it's 2, and so on, up to `n-1` comparisons for the last element.\n",
        "\n",
        "3. **Nested Loops**: The inner loop is nested within the outer loop. This means for each element, you potentially have to compare it with each element in the sorted portion. The total number of comparisons in the worst case is the sum of the first `n-1` integers, which is (n-1)(n)/2. This formula is a simplification of the sum of a linear series and is proportional to n².\n",
        "\n",
        "4. **Worst Case Scenario**: The worst-case scenario occurs when the array is sorted in reverse order. Each new element considered has to be compared with all the other elements already sorted and then placed in its correct position. So, you end up with approximately (n²-n)/2 comparisons and swaps, which simplifies to O(n²).\n",
        "\n",
        "In summary, the O(n²) complexity comes from the fact that for each element, the algorithm may need to go through a number of elements proportional to the size of the array (in the worst case), leading to a quadratic relationship between the number of elements and the number of operations required."
      ],
      "metadata": {
        "id": "x6JnDqz0ywi-"
      }
    },
    {
      "cell_type": "markdown",
      "source": [
        "# Selection Sort"
      ],
      "metadata": {
        "id": "uWY7nikszLqn"
      }
    },
    {
      "cell_type": "markdown",
      "source": [
        "**Selection Sort Pseudocode**:\n",
        "Assuming `array` is the list of elements to be sorted:\n",
        "\n",
        "```pseudocode\n",
        "function selectionSort(array)\n",
        "    n = length(array)\n",
        "\n",
        "    for i = 0 to n-2\n",
        "        minIndex = i\n",
        "        for j = i + 1 to n-1\n",
        "            if array[j] < array[minIndex]\n",
        "                minIndex = j\n",
        "\n",
        "        // Swap the found minimum element with the first element\n",
        "        if minIndex != i\n",
        "            temp = array[i]\n",
        "            array[i] = array[minIndex]\n",
        "            array[minIndex] = temp\n",
        "```\n",
        "\n",
        "**Time Complexity**:\n",
        "- The time complexity of Selection Sort is O(n²), regardless of the initial arrangement of the elements. This is because it consists of two nested loops:\n",
        "  - The outer loop runs `n-1` times (where `n` is the number of elements).\n",
        "  - The inner loop runs `n-i-1` times for each iteration of the outer loop.\n",
        "  - As the number of total iterations is roughly the sum of the first `n-1` integers, it results in a time complexity proportional to n².\n",
        "- Unlike some other sorting algorithms, Selection Sort makes `n-1` swaps in the worst case, regardless of the initial order of the array.\n",
        "\n",
        "**Space Complexity**:\n",
        "- The space complexity of Selection Sort is O(1). It is an in-place sorting algorithm, meaning it does not require any additional storage that scales with the input size. The space used is for temporary storage (like the `temp` variable for swapping) and the loop counters, which remain constant regardless of the input size."
      ],
      "metadata": {
        "id": "pviI3KPQzNYz"
      }
    },
    {
      "cell_type": "markdown",
      "source": [
        "# Merge Sort"
      ],
      "metadata": {
        "id": "Y39OI9Tp8Uuk"
      }
    },
    {
      "cell_type": "markdown",
      "source": [
        "**Merge Sort Pseudocode**:\n",
        "Assuming `array` is the list of elements to be sorted:\n",
        "\n",
        "```pseudocode\n",
        "function mergeSort(array)\n",
        "    if length(array) > 1\n",
        "        mid = length(array) / 2\n",
        "        leftHalf = array[0...mid]\n",
        "        rightHalf = array[mid...end]\n",
        "\n",
        "        mergeSort(leftHalf)\n",
        "        mergeSort(rightHalf)\n",
        "\n",
        "        merge(array, leftHalf, rightHalf)\n",
        "\n",
        "function merge(array, leftHalf, rightHalf)\n",
        "    i = j = k = 0\n",
        "\n",
        "    while i < length(leftHalf) and j < length(rightHalf)\n",
        "        if leftHalf[i] < rightHalf[j]\n",
        "            array[k] = leftHalf[i]\n",
        "            i++\n",
        "        else\n",
        "            array[k] = rightHalf[j]\n",
        "            j++\n",
        "        k++\n",
        "\n",
        "    // Copy remaining elements\n",
        "    while i < length(leftHalf)\n",
        "        array[k] = leftHalf[i]\n",
        "        i++\n",
        "        k++\n",
        "\n",
        "    while j < length(rightHalf)\n",
        "        array[k] = rightHalf[j]\n",
        "        j++\n",
        "        k++\n",
        "```\n",
        "\n",
        "**Time Complexity**:\n",
        "- The time complexity of Merge Sort is O(n log n) in the worst, average, and best case. This is because the merge sort algorithm divides the array into two halves recursively until each sub-array contains a single element (log n divisions), and then merges these subarrays to produce a sorted array (n merges). The combination of dividing the array and merging them gives the time complexity of O(n log n).\n",
        "\n",
        "**Space Complexity**:\n",
        "- The space complexity of Merge Sort is O(n). This is because it is not an in-place sorting algorithm and requires additional space to temporarily store the left and right halves of the array. The amount of space needed is proportional to the size of the input array. In the worst case, the algorithm requires enough additional space to hold all elements of the input array, leading to a space complexity of O(n)."
      ],
      "metadata": {
        "id": "IAyIInxG8WUu"
      }
    },
    {
      "cell_type": "markdown",
      "source": [
        "## Deep dive into time and space complexity for merge sort\n",
        "\n",
        "### Time Complexity: O(n log n)\n",
        "\n",
        "1. **Divide and Conquer Approach**:\n",
        "   - Merge Sort is a classic example of the divide and conquer strategy. It divides the array into halves recursively. The division continues until subarrays have only one element (or no elements) — a condition where they are trivially sorted.\n",
        "\n",
        "2. **Dividing the Array**:\n",
        "   - The array of `n` elements is divided into two halves repeatedly. The depth of this division is logarithmic relative to the number of elements. Specifically, it will make `log n` divisions to reach the base case where each subarray has only one element.\n",
        "   - For example, for 8 elements, the division happens 3 times (8 -> 4 -> 2 -> 1).\n",
        "\n",
        "3. **Merging the Subarrays**:\n",
        "   - After division, the algorithm starts merging these subarrays to produce sorted arrays. The merge operation for each level of the divided arrays takes O(n) time since it needs to look at every element (to merge them in order).\n",
        "   - As there are `log n` levels (from the division step), and each level requires O(n) time to merge, the overall time for merging across all levels is O(n log n).\n",
        "\n",
        "### Space Complexity: O(n)\n",
        "\n",
        "1. **Additional Arrays for Merging**:\n",
        "   - During the merge process, Merge Sort requires additional space to temporarily store the left and right halves of the array. This additional space is used to hold the elements being merged.\n",
        "\n",
        "2. **Proportional to Input Size**:\n",
        "   - At any given time, the total amount of space used for these temporary arrays is proportional to the original array size `n`. This is because, in the worst-case scenario, you might need to store all elements of the array in these temporary arrays before merging them back into the original array.\n",
        "\n",
        "3. **Not In-Place**:\n",
        "   - Unlike some sorting algorithms (like Insertion Sort or Bubble Sort), Merge Sort does not sort the list in place. It requires this additional space, leading to a linear space complexity.\n",
        "\n",
        "4. **Recursive Stack Space**:\n",
        "   - Additionally, if we consider the space used by the system call stack due to recursion, the space complexity remains O(n). The depth of the recursive call stack will be O(log n), but this does not dominate the space complexity, which is primarily dictated by the space needed for merging.\n",
        "\n",
        "In summary, the time complexity of O(n log n) arises from the `log n` divisions and the O(n) time required to merge at each level, while the space complexity of O(n) is due to the additional space required for merging."
      ],
      "metadata": {
        "id": "n7kAFM_d8bWR"
      }
    },
    {
      "cell_type": "markdown",
      "source": [
        "# Quick Sort"
      ],
      "metadata": {
        "id": "IiUJUCS_8rg1"
      }
    },
    {
      "cell_type": "markdown",
      "source": [
        "### QuickSort Pseudocode\n",
        "\n",
        "```pseudocode\n",
        "function quickSort(array, low, high)\n",
        "    if low < high\n",
        "        pivotIndex = partition(array, low, high)\n",
        "        quickSort(array, low, pivotIndex - 1)  // Before pivot\n",
        "        quickSort(array, pivotIndex + 1, high) // After pivot\n",
        "\n",
        "function partition(array, low, high)\n",
        "    pivot = array[high]\n",
        "    i = low - 1\n",
        "    for j = low to high-1\n",
        "        if array[j] < pivot\n",
        "            i++\n",
        "            swap array[i] with array[j]\n",
        "    swap array[i + 1] with array[high]\n",
        "    return i + 1\n",
        "```\n",
        "\n",
        "### Time Complexity: O(n log n) on average, O(n²) in the worst case\n",
        "\n",
        "1. **Average and Best Case (O(n log n))**:\n",
        "   - In the average and best cases, QuickSort partitions the array such that each part is approximately equal in size. This optimal partitioning leads to a depth of recursion that is logarithmic (log n).\n",
        "   - At each level of recursion, the partitioning process goes through all n elements (hence n operations per level).\n",
        "   - Combining these, we get n operations per level and log n levels, leading to an average and best-case time complexity of O(n log n).\n",
        "\n",
        "2. **Worst Case (O(n²))**:\n",
        "   - The worst-case scenario occurs when the partition process always picks the greatest or the smallest element as the pivot, leading to highly unbalanced partitions.\n",
        "   - In such cases, QuickSort degrades to a complexity of O(n²) because the depth of the recursion becomes linear (n), and at each level of recursion, it still requires n operations.\n",
        "\n",
        "### Space Complexity: O(log n) on average, O(n) in the worst case\n",
        "\n",
        "1. **Average Case (O(log n))**:\n",
        "   - In the average case, due to the logarithmic depth of the recursion stack (as the array is divided approximately in half at each step), the space complexity is O(log n).\n",
        "   - This space complexity accounts for the stack frames of the recursive calls.\n",
        "\n",
        "2. **Worst Case (O(n))**:\n",
        "   - In the worst-case scenario (where the partitioning is highly unbalanced), the depth of the recursive call stack can grow up to n, leading to a space complexity of O(n).\n",
        "\n",
        "### In-Place Sorting\n",
        "\n",
        "- QuickSort is an in-place sorting algorithm. It doesn't require additional storage that grows with the input size for sorting the elements. The primary space consideration is the depth of the recursive call stack.\n",
        "\n",
        "### Summary\n",
        "\n",
        "- QuickSort is efficient in the average and best cases with a time complexity of O(n log n) but can degrade to O(n²) in the worst case. Its space complexity is typically O(log n) due to the stack frames from recursion, but in the worst case of unbalanced partitioning, it can grow to O(n)."
      ],
      "metadata": {
        "id": "ripx6j5k8rOl"
      }
    },
    {
      "cell_type": "markdown",
      "source": [],
      "metadata": {
        "id": "R2ordkLsR3H5"
      }
    },
    {
      "cell_type": "code",
      "source": [
        "a = 0;\n",
        "N = 10\n",
        "n = 10\n",
        "k = 0;\n",
        "for i in range(n//2,n):\n",
        "  for j in range(2,n,pow(2,j)):\n",
        "        k = k + n / 2;\n",
        "        print(\"I: \", i, \"j: \", j)"
      ],
      "metadata": {
        "colab": {
          "base_uri": "https://localhost:8080/"
        },
        "id": "vSR0PLoc8mcp",
        "outputId": "005ce7fe-3053-47f5-cc5e-a9924aee021a"
      },
      "execution_count": null,
      "outputs": [
        {
          "output_type": "stream",
          "name": "stdout",
          "text": [
            "I:  5 j:  2\n",
            "I:  6 j:  2\n",
            "I:  6 j:  6\n",
            "I:  7 j:  2\n",
            "I:  8 j:  2\n",
            "I:  8 j:  6\n",
            "I:  9 j:  2\n"
          ]
        }
      ]
    },
    {
      "cell_type": "code",
      "source": [
        "j = 1\n",
        "for j in range(2,100,pow(2,j)):\n",
        "  print(j)\n",
        "\n",
        "\n"
      ],
      "metadata": {
        "colab": {
          "base_uri": "https://localhost:8080/"
        },
        "id": "E_T43Q9pVM6E",
        "outputId": "e0013da4-f760-4950-c736-987cfcf5d54a"
      },
      "execution_count": null,
      "outputs": [
        {
          "output_type": "stream",
          "name": "stdout",
          "text": [
            "2\n",
            "4\n",
            "6\n",
            "8\n",
            "10\n",
            "12\n",
            "14\n",
            "16\n",
            "18\n",
            "20\n",
            "22\n",
            "24\n",
            "26\n",
            "28\n",
            "30\n",
            "32\n",
            "34\n",
            "36\n",
            "38\n",
            "40\n",
            "42\n",
            "44\n",
            "46\n",
            "48\n",
            "50\n",
            "52\n",
            "54\n",
            "56\n",
            "58\n",
            "60\n",
            "62\n",
            "64\n",
            "66\n",
            "68\n",
            "70\n",
            "72\n",
            "74\n",
            "76\n",
            "78\n",
            "80\n",
            "82\n",
            "84\n",
            "86\n",
            "88\n",
            "90\n",
            "92\n",
            "94\n",
            "96\n",
            "98\n"
          ]
        }
      ]
    },
    {
      "cell_type": "code",
      "source": [
        "for (i = 0; i< 10; i++)"
      ],
      "metadata": {
        "id": "bzMgV7wI0QY5"
      },
      "execution_count": null,
      "outputs": []
    },
    {
      "cell_type": "code",
      "source": [
        "list(range(100))"
      ],
      "metadata": {
        "colab": {
          "base_uri": "https://localhost:8080/"
        },
        "id": "HQCarVKwzh0x",
        "outputId": "a8a906ae-5362-4cc6-84ef-c046cccfe370"
      },
      "execution_count": null,
      "outputs": [
        {
          "output_type": "execute_result",
          "data": {
            "text/plain": [
              "[0,\n",
              " 1,\n",
              " 2,\n",
              " 3,\n",
              " 4,\n",
              " 5,\n",
              " 6,\n",
              " 7,\n",
              " 8,\n",
              " 9,\n",
              " 10,\n",
              " 11,\n",
              " 12,\n",
              " 13,\n",
              " 14,\n",
              " 15,\n",
              " 16,\n",
              " 17,\n",
              " 18,\n",
              " 19,\n",
              " 20,\n",
              " 21,\n",
              " 22,\n",
              " 23,\n",
              " 24,\n",
              " 25,\n",
              " 26,\n",
              " 27,\n",
              " 28,\n",
              " 29,\n",
              " 30,\n",
              " 31,\n",
              " 32,\n",
              " 33,\n",
              " 34,\n",
              " 35,\n",
              " 36,\n",
              " 37,\n",
              " 38,\n",
              " 39,\n",
              " 40,\n",
              " 41,\n",
              " 42,\n",
              " 43,\n",
              " 44,\n",
              " 45,\n",
              " 46,\n",
              " 47,\n",
              " 48,\n",
              " 49,\n",
              " 50,\n",
              " 51,\n",
              " 52,\n",
              " 53,\n",
              " 54,\n",
              " 55,\n",
              " 56,\n",
              " 57,\n",
              " 58,\n",
              " 59,\n",
              " 60,\n",
              " 61,\n",
              " 62,\n",
              " 63,\n",
              " 64,\n",
              " 65,\n",
              " 66,\n",
              " 67,\n",
              " 68,\n",
              " 69,\n",
              " 70,\n",
              " 71,\n",
              " 72,\n",
              " 73,\n",
              " 74,\n",
              " 75,\n",
              " 76,\n",
              " 77,\n",
              " 78,\n",
              " 79,\n",
              " 80,\n",
              " 81,\n",
              " 82,\n",
              " 83,\n",
              " 84,\n",
              " 85,\n",
              " 86,\n",
              " 87,\n",
              " 88,\n",
              " 89,\n",
              " 90,\n",
              " 91,\n",
              " 92,\n",
              " 93,\n",
              " 94,\n",
              " 95,\n",
              " 96,\n",
              " 97,\n",
              " 98,\n",
              " 99]"
            ]
          },
          "metadata": {},
          "execution_count": 14
        }
      ]
    },
    {
      "cell_type": "code",
      "source": [
        "\n",
        "for i in range(1, 100):\n",
        "  i=i*2\n",
        "  print(i)"
      ],
      "metadata": {
        "colab": {
          "base_uri": "https://localhost:8080/"
        },
        "id": "ajEYUBHFVbWc",
        "outputId": "4a543263-7f36-4eeb-a706-eb54cc4e7d35"
      },
      "execution_count": null,
      "outputs": [
        {
          "output_type": "stream",
          "name": "stdout",
          "text": [
            "2\n",
            "4\n",
            "6\n",
            "8\n",
            "10\n",
            "12\n",
            "14\n",
            "16\n",
            "18\n",
            "20\n",
            "22\n",
            "24\n",
            "26\n",
            "28\n",
            "30\n",
            "32\n",
            "34\n",
            "36\n",
            "38\n",
            "40\n",
            "42\n",
            "44\n",
            "46\n",
            "48\n",
            "50\n",
            "52\n",
            "54\n",
            "56\n",
            "58\n",
            "60\n",
            "62\n",
            "64\n",
            "66\n",
            "68\n",
            "70\n",
            "72\n",
            "74\n",
            "76\n",
            "78\n",
            "80\n",
            "82\n",
            "84\n",
            "86\n",
            "88\n",
            "90\n",
            "92\n",
            "94\n",
            "96\n",
            "98\n",
            "100\n",
            "102\n",
            "104\n",
            "106\n",
            "108\n",
            "110\n",
            "112\n",
            "114\n",
            "116\n",
            "118\n",
            "120\n",
            "122\n",
            "124\n",
            "126\n",
            "128\n",
            "130\n",
            "132\n",
            "134\n",
            "136\n",
            "138\n",
            "140\n",
            "142\n",
            "144\n",
            "146\n",
            "148\n",
            "150\n",
            "152\n",
            "154\n",
            "156\n",
            "158\n",
            "160\n",
            "162\n",
            "164\n",
            "166\n",
            "168\n",
            "170\n",
            "172\n",
            "174\n",
            "176\n",
            "178\n",
            "180\n",
            "182\n",
            "184\n",
            "186\n",
            "188\n",
            "190\n",
            "192\n",
            "194\n",
            "196\n",
            "198\n"
          ]
        }
      ]
    }
  ]
}